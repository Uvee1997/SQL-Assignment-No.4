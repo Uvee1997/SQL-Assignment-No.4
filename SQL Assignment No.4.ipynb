{
 "cells": [
  {
   "cell_type": "markdown",
   "id": "99f882b8",
   "metadata": {},
   "source": [
    "1) Write an SQL query to print the FIRST_NAME from Worker table after replacing ‘a’ with ‘A’.\n",
    "\n",
    ":- select REPLACE(FIRST_NAME, \"a\" , \"A\") from worker"
   ]
  },
  {
   "cell_type": "markdown",
   "id": "c5e9a0f5",
   "metadata": {},
   "source": [
    "2) Write an SQL query to print all Worker details from the Worker table order by FIRST_NAME Ascending and DEPARTMENT Descending.\n",
    "\n",
    ":- select * from worker ORDER BY FIRST_NAME ASC , DEPARTMENT DESC "
   ]
  },
  {
   "cell_type": "markdown",
   "id": "038561f8",
   "metadata": {},
   "source": [
    "3) Write an SQL query to fetch the names of workers who earn the highest salary.\n",
    "\n",
    ":- select max(salary,FIRST_NAME)from worker "
   ]
  }
 ],
 "metadata": {
  "kernelspec": {
   "display_name": "Python 3 (ipykernel)",
   "language": "python",
   "name": "python3"
  },
  "language_info": {
   "codemirror_mode": {
    "name": "ipython",
    "version": 3
   },
   "file_extension": ".py",
   "mimetype": "text/x-python",
   "name": "python",
   "nbconvert_exporter": "python",
   "pygments_lexer": "ipython3",
   "version": "3.9.7"
  }
 },
 "nbformat": 4,
 "nbformat_minor": 5
}
